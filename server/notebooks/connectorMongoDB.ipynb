{
 "cells": [
  {
   "cell_type": "markdown",
   "metadata": {},
   "source": [
    "<center><h1> Connect to MongoDB </h1></center>"
   ]
  },
  {
   "cell_type": "code",
   "execution_count": 2,
   "metadata": {},
   "outputs": [],
   "source": [
    "# ---------- creds ----------\n",
    "import pandas as pd\n",
    "import sys\n",
    "import os"
   ]
  },
  {
   "cell_type": "code",
   "execution_count": 2,
   "metadata": {},
   "outputs": [],
   "source": [
    "# ---------- define system path for data ----------\n",
    "DATA_PATH = sys.path[0].replace(\"notebooks\", \"base_data\")"
   ]
  },
  {
   "cell_type": "code",
   "execution_count": 3,
   "metadata": {},
   "outputs": [],
   "source": [
    "# ---------- import data ----------\n",
    "table_events = pd.read_csv(DATA_PATH + \"\\\\table_events.csv\", encoding = \"utf-8\")\n",
    "table_journey = pd.read_csv(DATA_PATH + \"\\\\table_journey.csv\", encoding = \"utf-8\")\n",
    "table_pickups = pd.read_csv(DATA_PATH + \"\\\\table_pickups.csv\", encoding = \"utf-8\")\n",
    "table_user = pd.read_csv(DATA_PATH + \"\\\\table_user.csv\", encoding = \"utf-8\")\n",
    "table_reservation = pd.read_csv(DATA_PATH + \"\\\\table_reservation.csv\", encoding = \"utf-8\")\n",
    "table_client = pd.read_csv(DATA_PATH + \"\\\\table_client.csv\", encoding = \"utf-8\")\n",
    "table_competition = pd.read_csv(DATA_PATH + \"\\\\table_competition.csv\", encoding = \"utf-8\")"
   ]
  },
  {
   "cell_type": "code",
   "execution_count": 3,
   "metadata": {},
   "outputs": [],
   "source": [
    "# ---------- manipulate working directory for import own modules ----------\n",
    "sys.path.insert(0, os.path.abspath('..'))"
   ]
  },
  {
   "cell_type": "code",
   "execution_count": 4,
   "metadata": {},
   "outputs": [
    {
     "name": "stdout",
     "output_type": "stream",
     "text": [
      "I AM CURRENTLY CONNECT TO:  dev\n"
     ]
    }
   ],
   "source": [
    "# ---------- self-written creds ----------\n",
    "from settings import *"
   ]
  },
  {
   "cell_type": "code",
   "execution_count": 5,
   "metadata": {},
   "outputs": [],
   "source": [
    "# ---------- connect to mongoDB ----------\n",
    "client = pymongo.MongoClient(MONGO_URI)"
   ]
  },
  {
   "cell_type": "markdown",
   "metadata": {},
   "source": [
    "<center><b><h1 style=\"color:red;\"> ATTENTION! IN THE NEXT STEP YOU CAN DECIDE WHETHER IT WILL BE PUSHED TO DEV OR PROD (table) </h1></b></center><br>"
   ]
  },
  {
   "cell_type": "code",
   "execution_count": 6,
   "metadata": {},
   "outputs": [],
   "source": [
    "# ---------- decide between PROD und DEV ----------\n",
    "# db = client.table  # PRODUCTION\n",
    "db = client.dev  # DEVELOPMENT"
   ]
  },
  {
   "cell_type": "code",
   "execution_count": null,
   "metadata": {},
   "outputs": [],
   "source": [
    "# ---------- table_competition to MongoDB ----------\n",
    "db.competition.drop()\n",
    "db.competition.insert_many(table_competition.to_dict(\"records\"))"
   ]
  },
  {
   "cell_type": "code",
   "execution_count": 9,
   "metadata": {},
   "outputs": [],
   "source": [
    "# ---------- table_client to MongoDB ----------\n",
    "db.client.drop()\n",
    "db.client.insert_many(table_client.to_dict(\"records\"))"
   ]
  },
  {
   "cell_type": "code",
   "execution_count": 9,
   "metadata": {},
   "outputs": [
    {
     "data": {
      "text/plain": [
       "<pymongo.results.InsertManyResult at 0x2058f585f40>"
      ]
     },
     "execution_count": 9,
     "metadata": {},
     "output_type": "execute_result"
    }
   ],
   "source": [
    "# ---------- table_events to MongoDB ----------\n",
    "db.events.drop()\n",
    "db.events.insert_many(table_events.to_dict(\"records\"))"
   ]
  },
  {
   "cell_type": "code",
   "execution_count": 10,
   "metadata": {},
   "outputs": [
    {
     "data": {
      "text/plain": [
       "<pymongo.results.InsertManyResult at 0x2058f5cef80>"
      ]
     },
     "execution_count": 10,
     "metadata": {},
     "output_type": "execute_result"
    }
   ],
   "source": [
    "# ---------- table_journey to MongoDB ----------\n",
    "db.journey.drop()\n",
    "db.journey.insert_many(table_journey.to_dict(\"records\"))"
   ]
  },
  {
   "cell_type": "code",
   "execution_count": 11,
   "metadata": {},
   "outputs": [
    {
     "data": {
      "text/plain": [
       "<pymongo.results.InsertManyResult at 0x2058f5b0200>"
      ]
     },
     "execution_count": 11,
     "metadata": {},
     "output_type": "execute_result"
    }
   ],
   "source": [
    "# ---------- table_pickups to MongoDB ----------\n",
    "db.pickups.drop()\n",
    "db.pickups.insert_many(table_pickups.to_dict(\"records\"))"
   ]
  },
  {
   "cell_type": "code",
   "execution_count": 12,
   "metadata": {
    "scrolled": true
   },
   "outputs": [
    {
     "data": {
      "text/plain": [
       "<pymongo.results.InsertManyResult at 0x2058eee5a80>"
      ]
     },
     "execution_count": 12,
     "metadata": {},
     "output_type": "execute_result"
    }
   ],
   "source": [
    "# ---------- table_user to MongoDB ----------\n",
    "db.user.drop()\n",
    "db.user.insert_many(table_user.to_dict(\"records\"))"
   ]
  },
  {
   "cell_type": "code",
   "execution_count": 13,
   "metadata": {},
   "outputs": [
    {
     "data": {
      "text/plain": [
       "<pymongo.results.InsertManyResult at 0x2058ce187c0>"
      ]
     },
     "execution_count": 13,
     "metadata": {},
     "output_type": "execute_result"
    }
   ],
   "source": [
    "# ---------- table_events to MongoDB ----------\n",
    "db.reservation.drop()\n",
    "db.reservation.insert_many(table_reservation.to_dict(\"records\"))"
   ]
  },
  {
   "cell_type": "markdown",
   "metadata": {},
   "source": [
    "<center><h1>Bundesliga Vereine in Database </h1></center><br>\n",
    "<h1> STOP SCRIPT HERE!!! </h1>"
   ]
  },
  {
   "cell_type": "code",
   "execution_count": 7,
   "metadata": {},
   "outputs": [],
   "source": [
    "from models import Club\n",
    "from IPython.display import Image"
   ]
  },
  {
   "cell_type": "code",
   "execution_count": 8,
   "metadata": {
    "scrolled": true
   },
   "outputs": [],
   "source": [
    "db.club.drop()"
   ]
  },
  {
   "cell_type": "code",
   "execution_count": 10,
   "metadata": {},
   "outputs": [
    {
     "data": {
      "text/plain": [
       "<Club: Club object>"
      ]
     },
     "execution_count": 10,
     "metadata": {},
     "output_type": "execute_result"
    }
   ],
   "source": [
    "borussia_dortmund = Club(\n",
    "    club_id=str(uuid.uuid4()),\n",
    "    competition_id = [\"3e166494-3ac5-48ce-9e14-fd37a4a0f49d\"],\n",
    "    club_name_long=\"Borussia Dortmund\",\n",
    "    club_name_short=\"BVB\",\n",
    "    club_logo=open(\"static/erste_bundesliga/borussia_dortmund.svg\", \"rb\"),\n",
    "    club_primary_color=\"#FDE100;\",\n",
    "    club_secondary_color=\"#000000;\")\n",
    "borussia_dortmund.save()"
   ]
  },
  {
   "cell_type": "code",
   "execution_count": 11,
   "metadata": {},
   "outputs": [
    {
     "data": {
      "text/plain": [
       "<Club: Club object>"
      ]
     },
     "execution_count": 11,
     "metadata": {},
     "output_type": "execute_result"
    }
   ],
   "source": [
    "bayern_muenchen = Club(\n",
    "    club_id=str(uuid.uuid4()),\n",
    "    club_name_long=\"FC Bayern München\",\n",
    "    competition_id = [\"3e166494-3ac5-48ce-9e14-fd37a4a0f49d\", \"d293eb04-60ee-4b6d-9053-44feda07204c\"],\n",
    "    club_name_short=\"FCB\",\n",
    "    club_logo=open(\"static/erste_bundesliga/bayern_muenchen.svg\", \"rb\"),\n",
    "    club_primary_color=\"#0066b2;\",\n",
    "    club_secondary_color=\"#f3e500;\")\n",
    "bayern_muenchen.save()"
   ]
  },
  {
   "cell_type": "code",
   "execution_count": 12,
   "metadata": {
    "scrolled": false
   },
   "outputs": [
    {
     "data": {
      "text/plain": [
       "<Club: Club object>"
      ]
     },
     "execution_count": 12,
     "metadata": {},
     "output_type": "execute_result"
    }
   ],
   "source": [
    "bayer_leverkusen = Club(\n",
    "    club_id=str(uuid.uuid4()),\n",
    "    club_name_long=\"Bayer Leverkusen\",\n",
    "    competition_id = [\"3e166494-3ac5-48ce-9e14-fd37a4a0f49d\", \"d293eb04-60ee-4b6d-9053-44feda07204c\"],\n",
    "    club_name_short=\"Bayer\",\n",
    "    club_logo=open(\"static/erste_bundesliga/bayer_leverkusen.svg\", \"rb\"),\n",
    "    club_primary_color=\"#e32221;\",\n",
    "    club_secondary_color=\"#dc052d;\",\n",
    "    club_teritary_color=\"#1a171b;\")\n",
    "bayern_muenchen.save()"
   ]
  },
  {
   "cell_type": "code",
   "execution_count": 13,
   "metadata": {},
   "outputs": [
    {
     "data": {
      "text/plain": [
       "<Club: Club object>"
      ]
     },
     "execution_count": 13,
     "metadata": {},
     "output_type": "execute_result"
    }
   ],
   "source": [
    "borussia_moenchengladbach = Club(\n",
    "    club_id=str(uuid.uuid4()),\n",
    "    competition_id = [\"3e166494-3ac5-48ce-9e14-fd37a4a0f49d\"],\n",
    "    club_name_long=\"Borussia Mönchengladbach\",\n",
    "    club_name_short=\"BMG\",\n",
    "    club_logo=open(\"static/erste_bundesliga/borussia_moenchengladbach.svg\", \"rb\"),\n",
    "    club_primary_color=\"#000000;\",\n",
    "    club_secondary_color=\"#FFFFFF;\")\n",
    "borussia_moenchengladbach.save()"
   ]
  },
  {
   "cell_type": "code",
   "execution_count": 14,
   "metadata": {},
   "outputs": [
    {
     "data": {
      "text/plain": [
       "<Club: Club object>"
      ]
     },
     "execution_count": 14,
     "metadata": {},
     "output_type": "execute_result"
    }
   ],
   "source": [
    "eintracht_frankfurt = Club(\n",
    "    club_id=str(uuid.uuid4()),\n",
    "    competition_id = [\"3e166494-3ac5-48ce-9e14-fd37a4a0f49d\", \"d293eb04-60ee-4b6d-9053-44feda07204c\"],\n",
    "    client_id = \"96c55241-eede-4102-ab0b-4d25cadff77e\",\n",
    "    club_name_long=\"Eintracht Frankfurt\",\n",
    "    club_name_short=\"SGE\",\n",
    "    club_logo=open(\"static/erste_bundesliga/eintracht_frankfurt.svg\", \"rb\"),\n",
    "    club_primary_color=\"#e1000f;\",\n",
    "    club_secondary_color=\"#FFFFFF;\")\n",
    "eintracht_frankfurt.save()"
   ]
  },
  {
   "cell_type": "code",
   "execution_count": 15,
   "metadata": {},
   "outputs": [
    {
     "data": {
      "text/plain": [
       "<Club: Club object>"
      ]
     },
     "execution_count": 15,
     "metadata": {},
     "output_type": "execute_result"
    }
   ],
   "source": [
    "fc_augsburg = Club(\n",
    "    club_id=str(uuid.uuid4()),\n",
    "    competition_id = [\"3e166494-3ac5-48ce-9e14-fd37a4a0f49d\"],\n",
    "    club_name_long=\"FC Augsburg\",\n",
    "    club_name_short=\"FCA\",\n",
    "    club_logo=open(\"static/erste_bundesliga/fc_augsburg.svg\", \"rb\"),\n",
    "    club_primary_color=\"#221f1f;\",\n",
    "    club_secondary_color=\"#ffd42e;\",\n",
    "    club_teritary_color=\"#ba3733;\")\n",
    "fc_augsburg.save()"
   ]
  },
  {
   "cell_type": "code",
   "execution_count": 16,
   "metadata": {},
   "outputs": [
    {
     "data": {
      "text/plain": [
       "<Club: Club object>"
      ]
     },
     "execution_count": 16,
     "metadata": {},
     "output_type": "execute_result"
    }
   ],
   "source": [
    "fc_köln = Club(\n",
    "    club_id=str(uuid.uuid4()),\n",
    "    competition_id = [\"3e166494-3ac5-48ce-9e14-fd37a4a0f49d\"],\n",
    "    club_name_long=\"1.FC Köln\",\n",
    "    club_name_short=\"1. FCK\",\n",
    "    club_logo=open(\"static/erste_bundesliga/fc_köln.png\", \"rb\"),\n",
    "    club_primary_color=\"#ed1c24;\",\n",
    "    club_secondary_color=\"#ffffff;\",\n",
    "    club_teritary_color=\"#231f20;\")\n",
    "fc_köln.save()"
   ]
  },
  {
   "cell_type": "code",
   "execution_count": 17,
   "metadata": {},
   "outputs": [
    {
     "data": {
      "text/plain": [
       "<Club: Club object>"
      ]
     },
     "execution_count": 17,
     "metadata": {},
     "output_type": "execute_result"
    }
   ],
   "source": [
    "fortuna_duesseldorf = Club(\n",
    "    club_id=str(uuid.uuid4()),\n",
    "    competition_id = [\"3e166494-3ac5-48ce-9e14-fd37a4a0f49d\"],\n",
    "    club_name_long=\"Fortuna Duesseldorf\",\n",
    "    club_name_short=\"Fortuna\",\n",
    "    club_logo=open(\"static/erste_bundesliga/fortuna_duesseldorf.svg\", \"rb\"),\n",
    "    club_primary_color=\"#da251d;\",\n",
    "    club_secondary_color=\"#ffffff;\")\n",
    "fortuna_duesseldorf.save()"
   ]
  },
  {
   "cell_type": "code",
   "execution_count": 18,
   "metadata": {},
   "outputs": [
    {
     "data": {
      "text/plain": [
       "<Club: Club object>"
      ]
     },
     "execution_count": 18,
     "metadata": {},
     "output_type": "execute_result"
    }
   ],
   "source": [
    "hertha_bsc = Club(\n",
    "    club_id=str(uuid.uuid4()),\n",
    "    competition_id = [\"3e166494-3ac5-48ce-9e14-fd37a4a0f49d\"],\n",
    "    club_name_long=\"Hertha BSC\",\n",
    "    club_name_short=\"Hertha\",\n",
    "    club_logo=open(\"static/erste_bundesliga/hertha_bsc.png\", \"rb\"),\n",
    "    club_primary_color=\"#005ca9;\",\n",
    "    club_secondary_color=\"#ffffff;\",\n",
    "    club_teritary_color=\"#000000;\")\n",
    "hertha_bsc.save()"
   ]
  },
  {
   "cell_type": "code",
   "execution_count": 19,
   "metadata": {},
   "outputs": [
    {
     "data": {
      "text/plain": [
       "<Club: Club object>"
      ]
     },
     "execution_count": 19,
     "metadata": {},
     "output_type": "execute_result"
    }
   ],
   "source": [
    "mainz_05 = Club(\n",
    "    club_id=str(uuid.uuid4()),\n",
    "    competition_id = [\"3e166494-3ac5-48ce-9e14-fd37a4a0f49d\"],\n",
    "    club_name_long=\"FSV Mainz 05\",\n",
    "    club_name_short=\"Mainz\",\n",
    "    club_logo=open(\"static/erste_bundesliga/mainz_05.png\", \"rb\"),\n",
    "    club_primary_color=\"#ed1c24;\",\n",
    "    club_secondary_color=\"#918f90;\")\n",
    "mainz_05.save()"
   ]
  },
  {
   "cell_type": "code",
   "execution_count": 20,
   "metadata": {},
   "outputs": [
    {
     "data": {
      "text/plain": [
       "<Club: Club object>"
      ]
     },
     "execution_count": 20,
     "metadata": {},
     "output_type": "execute_result"
    }
   ],
   "source": [
    "rb_leipzig = Club(\n",
    "    club_id=str(uuid.uuid4()),\n",
    "    competition_id = [\"3e166494-3ac5-48ce-9e14-fd37a4a0f49d\"],\n",
    "    club_name_long=\"RasenBall Leipzig\",\n",
    "    club_name_short=\"RB\",\n",
    "    club_logo=open(\"static/erste_bundesliga/rb_leipzig.png\", \"rb\"),\n",
    "    club_primary_color=\"#de023f;\",\n",
    "    club_secondary_color=\"#ffffff;\",\n",
    "    club_teritary_color=\"#d9dada;\")\n",
    "rb_leipzig.save()"
   ]
  },
  {
   "cell_type": "code",
   "execution_count": 21,
   "metadata": {},
   "outputs": [
    {
     "data": {
      "text/plain": [
       "<Club: Club object>"
      ]
     },
     "execution_count": 21,
     "metadata": {},
     "output_type": "execute_result"
    }
   ],
   "source": [
    "sc_freiburg = Club(\n",
    "    club_id=str(uuid.uuid4()),\n",
    "    competition_id = [\"3e166494-3ac5-48ce-9e14-fd37a4a0f49d\"],\n",
    "    club_name_long=\"SportClub Freiburg\",\n",
    "    club_name_short=\"SC\",\n",
    "    club_logo=open(\"static/erste_bundesliga/sc_freiburg.png\", \"rb\"),\n",
    "    club_primary_color=\"#000000;\",\n",
    "    club_secondary_color=\"#ffffff;\")\n",
    "sc_freiburg.save()"
   ]
  },
  {
   "cell_type": "code",
   "execution_count": 22,
   "metadata": {},
   "outputs": [
    {
     "data": {
      "text/plain": [
       "<Club: Club object>"
      ]
     },
     "execution_count": 22,
     "metadata": {},
     "output_type": "execute_result"
    }
   ],
   "source": [
    "sc_paderborn = Club(\n",
    "    club_id=str(uuid.uuid4()),\n",
    "    competition_id = [\"3e166494-3ac5-48ce-9e14-fd37a4a0f49d\"],\n",
    "    club_name_long=\"SportClub Paderborn\",\n",
    "    club_name_short=\"Paderborn\",\n",
    "    club_logo=open(\"static/erste_bundesliga/sc_paderborn.png\", \"rb\"),\n",
    "    club_primary_color=\"#005ca8;\",\n",
    "    club_secondary_color=\"#ffffff;\",\n",
    "    club_teritary_color=\"#000000;\")\n",
    "sc_paderborn.save()"
   ]
  },
  {
   "cell_type": "code",
   "execution_count": 23,
   "metadata": {},
   "outputs": [
    {
     "data": {
      "text/plain": [
       "<Club: Club object>"
      ]
     },
     "execution_count": 23,
     "metadata": {},
     "output_type": "execute_result"
    }
   ],
   "source": [
    "schalke_04 = Club(\n",
    "    club_id=str(uuid.uuid4()),\n",
    "    competition_id = [\"3e166494-3ac5-48ce-9e14-fd37a4a0f49d\"],\n",
    "    club_name_long=\"Schalke 04\",\n",
    "    club_name_short=\"Schalke\",\n",
    "    club_logo=open(\"static/erste_bundesliga/schalke_04.png\", \"rb\"),\n",
    "    club_primary_color=\"#004d9d;\",\n",
    "    club_secondary_color=\"#ffffff;\")\n",
    "schalke_04.save()"
   ]
  },
  {
   "cell_type": "code",
   "execution_count": 24,
   "metadata": {},
   "outputs": [
    {
     "data": {
      "text/plain": [
       "<Club: Club object>"
      ]
     },
     "execution_count": 24,
     "metadata": {},
     "output_type": "execute_result"
    }
   ],
   "source": [
    "tsg_hoffenheim = Club(\n",
    "    club_id=str(uuid.uuid4()),\n",
    "    competition_id = [\"3e166494-3ac5-48ce-9e14-fd37a4a0f49d\"],\n",
    "    club_name_long=\"TSG Hoffenheim\",\n",
    "    club_name_short=\"TSG\",\n",
    "    club_logo=open(\"static/erste_bundesliga/tsg_hoffenheim.svg\", \"rb\"),\n",
    "    club_primary_color=\"#1c63b7;\",\n",
    "    club_secondary_color=\"#ffffff;\")\n",
    "tsg_hoffenheim.save()"
   ]
  },
  {
   "cell_type": "code",
   "execution_count": 25,
   "metadata": {},
   "outputs": [
    {
     "data": {
      "text/plain": [
       "<Club: Club object>"
      ]
     },
     "execution_count": 25,
     "metadata": {},
     "output_type": "execute_result"
    }
   ],
   "source": [
    "union_berlin = Club(\n",
    "    club_id=str(uuid.uuid4()),\n",
    "    competition_id = [\"3e166494-3ac5-48ce-9e14-fd37a4a0f49d\"],\n",
    "    club_name_long=\"Union Berlin\",\n",
    "    club_name_short=\"Union\",\n",
    "    club_logo=open(\"static/erste_bundesliga/union_berlin.svg\", \"rb\"),\n",
    "    club_primary_color=\"#fcea10;\",\n",
    "    club_secondary_color=\"#d4011d;\",\n",
    "    club_teritary_color=\"#000000;\")\n",
    "union_berlin.save()"
   ]
  },
  {
   "cell_type": "code",
   "execution_count": 26,
   "metadata": {},
   "outputs": [
    {
     "data": {
      "text/plain": [
       "<Club: Club object>"
      ]
     },
     "execution_count": 26,
     "metadata": {},
     "output_type": "execute_result"
    }
   ],
   "source": [
    "vfl_wolfsburg = Club(\n",
    "    club_id=str(uuid.uuid4()),\n",
    "    competition_id = [\"3e166494-3ac5-48ce-9e14-fd37a4a0f49d\"],\n",
    "    club_name_long=\"Vfl Wolfsburg\",\n",
    "    club_name_short=\"Vfl\",\n",
    "    club_logo=open(\"static/erste_bundesliga/vfl_wolfsburg.svg\", \"rb\"),\n",
    "    club_primary_color=\"#65b32e;\",\n",
    "    club_secondary_color=\"#ffffff;\")\n",
    "vfl_wolfsburg.save()"
   ]
  },
  {
   "cell_type": "code",
   "execution_count": 27,
   "metadata": {},
   "outputs": [
    {
     "data": {
      "text/plain": [
       "<Club: Club object>"
      ]
     },
     "execution_count": 27,
     "metadata": {},
     "output_type": "execute_result"
    }
   ],
   "source": [
    "werder_bremen = Club(\n",
    "    club_id=str(uuid.uuid4()),\n",
    "    competition_id = [\"3e166494-3ac5-48ce-9e14-fd37a4a0f49d\"],\n",
    "    club_name_long=\"SV Werder Bremen\",\n",
    "    club_name_short=\"Bremen\",\n",
    "    club_logo=open(\"static/erste_bundesliga/werder_bremen.svg\", \"rb\"),\n",
    "    club_primary_color=\"#1d9053;\",\n",
    "    club_secondary_color=\"#ffffff;\")\n",
    "werder_bremen.save()"
   ]
  },
  {
   "cell_type": "markdown",
   "metadata": {},
   "source": [
    "# Test area"
   ]
  },
  {
   "cell_type": "code",
   "execution_count": 47,
   "metadata": {},
   "outputs": [],
   "source": [
    "import json"
   ]
  },
  {
   "cell_type": "code",
   "execution_count": 53,
   "metadata": {},
   "outputs": [],
   "source": [
    "club = Bundesliga.objects(bundesliga_club_name_short=\"BVB\").get()"
   ]
  },
  {
   "cell_type": "code",
   "execution_count": 56,
   "metadata": {},
   "outputs": [
    {
     "data": {
      "text/plain": [
       "bytes"
      ]
     },
     "execution_count": 56,
     "metadata": {},
     "output_type": "execute_result"
    }
   ],
   "source": [
    "type(club.bundesliga_club_logo.thumbnail.read())"
   ]
  },
  {
   "cell_type": "code",
   "execution_count": null,
   "metadata": {},
   "outputs": [],
   "source": []
  }
 ],
 "metadata": {
  "kernelspec": {
   "display_name": "Python 3",
   "language": "python",
   "name": "python3"
  },
  "language_info": {
   "codemirror_mode": {
    "name": "ipython",
    "version": 3
   },
   "file_extension": ".py",
   "mimetype": "text/x-python",
   "name": "python",
   "nbconvert_exporter": "python",
   "pygments_lexer": "ipython3",
   "version": "3.8.2"
  }
 },
 "nbformat": 4,
 "nbformat_minor": 4
}
