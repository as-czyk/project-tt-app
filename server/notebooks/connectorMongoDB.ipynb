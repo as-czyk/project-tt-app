{
 "cells": [
  {
   "cell_type": "markdown",
   "metadata": {},
   "source": [
    "<center><h1> Connect to MongoDB </h1></center>"
   ]
  },
  {
   "cell_type": "code",
   "execution_count": 1,
   "metadata": {},
   "outputs": [],
   "source": [
    "# ---------- creds ----------\n",
    "import pandas as pd\n",
    "import sys\n",
    "import os"
   ]
  },
  {
   "cell_type": "code",
   "execution_count": 2,
   "metadata": {},
   "outputs": [],
   "source": [
    "# ---------- define system path for data ----------\n",
    "DATA_PATH = sys.path[0].replace(\"notebooks\", \"base_data\")"
   ]
  },
  {
   "cell_type": "code",
   "execution_count": 3,
   "metadata": {},
   "outputs": [],
   "source": [
    "# ---------- import data ----------\n",
    "table_events = pd.read_csv(DATA_PATH + \"\\\\table_events.csv\", encoding = \"utf-8\")\n",
    "table_journey = pd.read_csv(DATA_PATH + \"\\\\table_journey.csv\", encoding = \"utf-8\")\n",
    "table_pickups = pd.read_csv(DATA_PATH + \"\\\\table_pickups.csv\", encoding = \"utf-8\")\n",
    "table_user = pd.read_csv(DATA_PATH + \"\\\\table_user.csv\", encoding = \"utf-8\")\n",
    "table_reservation = pd.read_csv(DATA_PATH + \"\\\\table_reservation.csv\", encoding = \"utf-8\")\n",
    "table_organizator = pd.read_csv(DATA_PATH + \"\\\\table_organizator.csv\", encoding = \"utf-8\")"
   ]
  },
  {
   "cell_type": "code",
   "execution_count": 4,
   "metadata": {},
   "outputs": [],
   "source": [
    "# ---------- manipulate working directory for import own modules ----------\n",
    "sys.path.insert(0, os.path.abspath('..'))"
   ]
  },
  {
   "cell_type": "code",
   "execution_count": 5,
   "metadata": {},
   "outputs": [
    {
     "name": "stdout",
     "output_type": "stream",
     "text": [
      "I AM CURRENTLY CONNECT TO:  dev\n"
     ]
    }
   ],
   "source": [
    "# ---------- self-written creds ----------\n",
    "from settings import *"
   ]
  },
  {
   "cell_type": "code",
   "execution_count": 6,
   "metadata": {},
   "outputs": [],
   "source": [
    "# ---------- connect to mongoDB ----------\n",
    "client = pymongo.MongoClient(MONGO_URI)"
   ]
  },
  {
   "cell_type": "markdown",
   "metadata": {},
   "source": [
    "<center><b><h1 style=\"color:red;\"> ATTENTION! IN THE NEXT STEP YOU CAN DECIDE WHETHER IT WILL BE PUSHED TO DEV OR PROD (table) </h1></b></center><br>"
   ]
  },
  {
   "cell_type": "code",
   "execution_count": 7,
   "metadata": {},
   "outputs": [],
   "source": [
    "# ---------- decide between PROD und DEV ----------\n",
    "# db = client.table  # PRODUCTION\n",
    "db = client.dev  # DEVELOPMENT"
   ]
  },
  {
   "cell_type": "code",
   "execution_count": 8,
   "metadata": {},
   "outputs": [
    {
     "data": {
      "text/plain": [
       "<pymongo.results.InsertManyResult at 0x2058f585c40>"
      ]
     },
     "execution_count": 8,
     "metadata": {},
     "output_type": "execute_result"
    }
   ],
   "source": [
    "# ---------- table_organizator to MongoDB ----------\n",
    "db.organizator.drop()\n",
    "db.organizator.insert_many(table_organizator.to_dict(\"records\"))"
   ]
  },
  {
   "cell_type": "code",
   "execution_count": 9,
   "metadata": {},
   "outputs": [
    {
     "data": {
      "text/plain": [
       "<pymongo.results.InsertManyResult at 0x2058f585f40>"
      ]
     },
     "execution_count": 9,
     "metadata": {},
     "output_type": "execute_result"
    }
   ],
   "source": [
    "# ---------- table_events to MongoDB ----------\n",
    "db.events.drop()\n",
    "db.events.insert_many(table_events.to_dict(\"records\"))"
   ]
  },
  {
   "cell_type": "code",
   "execution_count": 10,
   "metadata": {},
   "outputs": [
    {
     "data": {
      "text/plain": [
       "<pymongo.results.InsertManyResult at 0x2058f5cef80>"
      ]
     },
     "execution_count": 10,
     "metadata": {},
     "output_type": "execute_result"
    }
   ],
   "source": [
    "# ---------- table_journey to MongoDB ----------\n",
    "db.journey.drop()\n",
    "db.journey.insert_many(table_journey.to_dict(\"records\"))"
   ]
  },
  {
   "cell_type": "code",
   "execution_count": 11,
   "metadata": {},
   "outputs": [
    {
     "data": {
      "text/plain": [
       "<pymongo.results.InsertManyResult at 0x2058f5b0200>"
      ]
     },
     "execution_count": 11,
     "metadata": {},
     "output_type": "execute_result"
    }
   ],
   "source": [
    "# ---------- table_pickups to MongoDB ----------\n",
    "db.pickups.drop()\n",
    "db.pickups.insert_many(table_pickups.to_dict(\"records\"))"
   ]
  },
  {
   "cell_type": "code",
   "execution_count": 12,
   "metadata": {
    "scrolled": true
   },
   "outputs": [
    {
     "data": {
      "text/plain": [
       "<pymongo.results.InsertManyResult at 0x2058eee5a80>"
      ]
     },
     "execution_count": 12,
     "metadata": {},
     "output_type": "execute_result"
    }
   ],
   "source": [
    "# ---------- table_user to MongoDB ----------\n",
    "db.user.drop()\n",
    "db.user.insert_many(table_user.to_dict(\"records\"))"
   ]
  },
  {
   "cell_type": "code",
   "execution_count": 13,
   "metadata": {},
   "outputs": [
    {
     "data": {
      "text/plain": [
       "<pymongo.results.InsertManyResult at 0x2058ce187c0>"
      ]
     },
     "execution_count": 13,
     "metadata": {},
     "output_type": "execute_result"
    }
   ],
   "source": [
    "# ---------- table_events to MongoDB ----------\n",
    "db.reservation.drop()\n",
    "db.reservation.insert_many(table_reservation.to_dict(\"records\"))"
   ]
  },
  {
   "cell_type": "markdown",
   "metadata": {},
   "source": [
    "# TEST AREA"
   ]
  },
  {
   "cell_type": "code",
   "execution_count": 8,
   "metadata": {},
   "outputs": [],
   "source": [
    "from models import *"
   ]
  },
  {
   "cell_type": "code",
   "execution_count": 9,
   "metadata": {},
   "outputs": [],
   "source": [
    "class User(Document):\n",
    "    \"\"\"This class takes 8 arguments and writes them to the User collection.\n",
    "\n",
    "    Keyword-Arguments:\n",
    "    user_id -- This is a unique uuid4 user id, to identify every single user\n",
    "    username -- This is the users name, it does not have to be unique\n",
    "    user_email -- Unique user email, it is necessary to login\n",
    "    user_password -- Users Password, which is hashed with sha256 in the database\n",
    "    user_account_created -- This is a timestemp, of when the user created his account\n",
    "    user_last_login -- A variable to track when the user last logged into the platform\n",
    "    user_profile_picture -- A picture which the user like to represent him with\n",
    "    event_id -- This is the event_id every user has, in order to know which event he wants to visit from the event collection # FIXME: We have to talk about it NAMING \n",
    "    \"\"\"\n",
    "    user_id = UUIDField(required=True)\n",
    "    username = StringField(required=True)\n",
    "    user_email = EmailField(max_length=50)\n",
    "    user_password = StringField(required=True)\n",
    "    user_account_created = DateTimeField(required=True)  # DateTimeField\n",
    "    user_last_login = DateTimeField(required=True)  # DateTimeField\n",
    "    #user_profile_picture = ImageField(required=False, default=\"default.jpg\")\n",
    "    event_id = UUIDField(required=True, default=\"2ab60824-b539-4a1f-ae1a-f7d94d2d55bb\")  # FIXME: This default is the eintracht game!"
   ]
  },
  {
   "cell_type": "code",
   "execution_count": 14,
   "metadata": {},
   "outputs": [],
   "source": [
    "user = User(user_id=str(uuid.uuid4()),\n",
    "                        username=\"tes12t\",\n",
    "                        user_email=\"123@1234.de\",\n",
    "                        user_password=\"hello\",\n",
    "                        user_account_created=datetime.datetime.utcnow().strftime('%d.%m.%Y %H:%M:%S'),\n",
    "                        user_last_login=datetime.datetime.utcnow().strftime('%d.%m.%Y %H:%M:%S'))"
   ]
  },
  {
   "cell_type": "code",
   "execution_count": 15,
   "metadata": {},
   "outputs": [
    {
     "data": {
      "text/plain": [
       "<User: User object>"
      ]
     },
     "execution_count": 15,
     "metadata": {},
     "output_type": "execute_result"
    }
   ],
   "source": [
    "user.save()"
   ]
  },
  {
   "cell_type": "code",
   "execution_count": null,
   "metadata": {},
   "outputs": [],
   "source": []
  }
 ],
 "metadata": {
  "kernelspec": {
   "display_name": "Python 3",
   "language": "python",
   "name": "python3"
  },
  "language_info": {
   "codemirror_mode": {
    "name": "ipython",
    "version": 3
   },
   "file_extension": ".py",
   "mimetype": "text/x-python",
   "name": "python",
   "nbconvert_exporter": "python",
   "pygments_lexer": "ipython3",
   "version": "3.8.2"
  }
 },
 "nbformat": 4,
 "nbformat_minor": 4
}
