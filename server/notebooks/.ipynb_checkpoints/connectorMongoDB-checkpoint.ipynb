{
 "cells": [
  {
   "cell_type": "markdown",
   "metadata": {},
   "source": [
    "<center><h1> Connect to MongoDB </h1></center>"
   ]
  },
  {
   "cell_type": "code",
   "execution_count": 1,
   "metadata": {},
   "outputs": [],
   "source": [
    "# ---------- creds ----------\n",
    "import pandas as pd\n",
    "import sys\n",
    "import os"
   ]
  },
  {
   "cell_type": "code",
   "execution_count": 2,
   "metadata": {},
   "outputs": [],
   "source": [
    "# ---------- define system path for data ----------\n",
    "DATA_PATH = sys.path[0].replace(\"notebooks\", \"base_data\")"
   ]
  },
  {
   "cell_type": "code",
   "execution_count": 3,
   "metadata": {},
   "outputs": [],
   "source": [
    "# ---------- import data ----------\n",
    "table_events = pd.read_csv(DATA_PATH + \"\\\\table_events.csv\", encoding = \"utf-8\")\n",
    "table_journey = pd.read_csv(DATA_PATH + \"\\\\table_journey.csv\", encoding = \"utf-8\")\n",
    "table_pickups = pd.read_csv(DATA_PATH + \"\\\\table_pickups.csv\", encoding = \"utf-8\")\n",
    "table_user = pd.read_csv(DATA_PATH + \"\\\\table_user.csv\", encoding = \"utf-8\")\n",
    "table_reservation = pd.read_csv(DATA_PATH + \"\\\\table_reservation.csv\", encoding = \"utf-8\")"
   ]
  },
  {
   "cell_type": "code",
   "execution_count": 4,
   "metadata": {},
   "outputs": [],
   "source": [
    "# ---------- manipulate working directory for import own modules ----------\n",
    "sys.path.insert(0, os.path.abspath('..'))"
   ]
  },
  {
   "cell_type": "code",
   "execution_count": 5,
   "metadata": {},
   "outputs": [
    {
     "name": "stdout",
     "output_type": "stream",
     "text": [
      "I AM CURRENTLY CONNECT TO:  dev\n"
     ]
    }
   ],
   "source": [
    "# ---------- self-written creds ----------\n",
    "from settings import *"
   ]
  },
  {
   "cell_type": "code",
   "execution_count": 6,
   "metadata": {},
   "outputs": [],
   "source": [
    "# ---------- connect to mongoDB ----------\n",
    "client = pymongo.MongoClient(MONGO_URI)"
   ]
  },
  {
   "cell_type": "markdown",
   "metadata": {},
   "source": [
    "<center><b><h1 style=\"color:red;\"> ATTENTION! IN THE NEXT STEP YOU CAN DECIDE WHETHER IT WILL BE PUSHED TO DEV OR PROD (table) </h1></b></center><br>"
   ]
  },
  {
   "cell_type": "code",
   "execution_count": 7,
   "metadata": {},
   "outputs": [],
   "source": [
    "# ---------- decide between PROD und DEV ----------\n",
    "# db = client.table  # PRODUCTION\n",
    "db = client.dev  # DEVELOPMENT"
   ]
  },
  {
   "cell_type": "code",
   "execution_count": 8,
   "metadata": {},
   "outputs": [
    {
     "data": {
      "text/plain": [
       "<pymongo.results.InsertManyResult at 0x2acadf4b900>"
      ]
     },
     "execution_count": 8,
     "metadata": {},
     "output_type": "execute_result"
    }
   ],
   "source": [
    "# ---------- table_events to MongoDB ----------\n",
    "db.events.drop()\n",
    "db.events.insert_many(table_events.to_dict(\"records\"))"
   ]
  },
  {
   "cell_type": "code",
   "execution_count": 9,
   "metadata": {},
   "outputs": [
    {
     "data": {
      "text/plain": [
       "<pymongo.results.InsertManyResult at 0x2261af0be00>"
      ]
     },
     "execution_count": 9,
     "metadata": {},
     "output_type": "execute_result"
    }
   ],
   "source": [
    "# ---------- table_journey to MongoDB ----------\n",
    "db.journey.drop()\n",
    "db.journey.insert_many(table_journey.to_dict(\"records\"))"
   ]
  },
  {
   "cell_type": "code",
   "execution_count": 10,
   "metadata": {},
   "outputs": [
    {
     "data": {
      "text/plain": [
       "<pymongo.results.InsertManyResult at 0x2261aeef180>"
      ]
     },
     "execution_count": 10,
     "metadata": {},
     "output_type": "execute_result"
    }
   ],
   "source": [
    "# ---------- table_pickups to MongoDB ----------\n",
    "db.pickups.drop()\n",
    "db.pickups.insert_many(table_pickups.to_dict(\"records\"))"
   ]
  },
  {
   "cell_type": "code",
   "execution_count": 9,
   "metadata": {
    "scrolled": true
   },
   "outputs": [
    {
     "data": {
      "text/plain": [
       "<pymongo.results.InsertManyResult at 0x2acadf7c900>"
      ]
     },
     "execution_count": 9,
     "metadata": {},
     "output_type": "execute_result"
    }
   ],
   "source": [
    "# ---------- table_user to MongoDB ----------\n",
    "db.user.drop()\n",
    "db.user.insert_many(table_user.to_dict(\"records\"))"
   ]
  },
  {
   "cell_type": "code",
   "execution_count": 12,
   "metadata": {},
   "outputs": [
    {
     "data": {
      "text/plain": [
       "<pymongo.results.InsertManyResult at 0x2261af4dd80>"
      ]
     },
     "execution_count": 12,
     "metadata": {},
     "output_type": "execute_result"
    }
   ],
   "source": [
    "# ---------- table_events to MongoDB ----------\n",
    "db.reservation.drop()\n",
    "db.reservation.insert_many(table_reservation.to_dict(\"records\"))"
   ]
  }
 ],
 "metadata": {
  "kernelspec": {
   "display_name": "Python 3",
   "language": "python",
   "name": "python3"
  },
  "language_info": {
   "codemirror_mode": {
    "name": "ipython",
    "version": 3
   },
   "file_extension": ".py",
   "mimetype": "text/x-python",
   "name": "python",
   "nbconvert_exporter": "python",
   "pygments_lexer": "ipython3",
   "version": "3.8.2"
  }
 },
 "nbformat": 4,
 "nbformat_minor": 4
}
